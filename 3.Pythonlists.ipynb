{
 "cells": [
  {
   "cell_type": "code",
   "execution_count": 1,
   "id": "a8c2b248-05b0-4f0d-828c-8c5267eac894",
   "metadata": {},
   "outputs": [
    {
     "data": {
      "text/plain": [
       "(15, 120)"
      ]
     },
     "execution_count": 1,
     "metadata": {},
     "output_type": "execute_result"
    }
   ],
   "source": [
    "my_list = [1, 2, 3, 4, 5]\n",
    "list_sum = sum(my_list)\n",
    "list_product = 1\n",
    "for num in my_list:\n",
    "    list_product *= num\n",
    "list_sum, list_product\n"
   ]
  },
  {
   "cell_type": "code",
   "execution_count": 2,
   "id": "602d8fe4-a281-43e9-b812-8a2333aacad0",
   "metadata": {},
   "outputs": [
    {
     "data": {
      "text/plain": [
       "(30, 5)"
      ]
     },
     "execution_count": 2,
     "metadata": {},
     "output_type": "execute_result"
    }
   ],
   "source": [
    "my_list = [10, 5, 20, 15, 30]\n",
    "largest_number = max(my_list)\n",
    "smallest_number = min(my_list)\n",
    "largest_number, smallest_number\n"
   ]
  },
  {
   "cell_type": "code",
   "execution_count": 3,
   "id": "b193ef93-eaa5-4865-b6fb-2a0bd4a06b4e",
   "metadata": {},
   "outputs": [
    {
     "data": {
      "text/plain": [
       "[1, 3, 5, 7, 9]"
      ]
     },
     "execution_count": 3,
     "metadata": {},
     "output_type": "execute_result"
    }
   ],
   "source": [
    "my_list = [1, 2, 3, 4, 5, 6, 7, 8, 9]\n",
    "new_list = [num for num in my_list if num % 2 != 0]\n",
    "new_list\n"
   ]
  },
  {
   "cell_type": "code",
   "execution_count": 4,
   "id": "2d0934af-b82c-48f6-ac34-be9f00c2fac8",
   "metadata": {},
   "outputs": [
    {
     "data": {
      "text/plain": [
       "[1, 3, 5, 7, 9]"
      ]
     },
     "execution_count": 4,
     "metadata": {},
     "output_type": "execute_result"
    }
   ],
   "source": [
    "my_list = [1, 2, 3, 4, 5, 6, 7, 8, 9]\n",
    "odd_numbers = [num for num in my_list if num % 2 != 0]\n",
    "odd_numbers\n"
   ]
  },
  {
   "cell_type": "code",
   "execution_count": 5,
   "id": "9bbc3734-220c-47b1-b092-ee2613aeaabb",
   "metadata": {},
   "outputs": [
    {
     "data": {
      "text/plain": [
       "'Hello'"
      ]
     },
     "execution_count": 5,
     "metadata": {},
     "output_type": "execute_result"
    }
   ],
   "source": [
    "char_list = ['H', 'e', 'l', 'l', 'o']\n",
    "string = ''.join(char_list)\n",
    "string\n"
   ]
  },
  {
   "cell_type": "code",
   "execution_count": 6,
   "id": "24fda03c-5685-42a9-bea2-44819dcdf948",
   "metadata": {},
   "outputs": [
    {
     "data": {
      "text/plain": [
       "2"
      ]
     },
     "execution_count": 6,
     "metadata": {},
     "output_type": "execute_result"
    }
   ],
   "source": [
    "my_list = ['apple', 'banana', 'orange', 'apple', 'grape']\n",
    "item = 'orange'\n",
    "index = my_list.index(item)\n",
    "index\n"
   ]
  },
  {
   "cell_type": "code",
   "execution_count": 7,
   "id": "e88830e3-c694-43eb-b8f0-bdd0293485a3",
   "metadata": {},
   "outputs": [
    {
     "data": {
      "text/plain": [
       "[1, 2, 3, 4, 5, 6]"
      ]
     },
     "execution_count": 7,
     "metadata": {},
     "output_type": "execute_result"
    }
   ],
   "source": [
    "list1 = [1, 2, 3]\n",
    "list2 = [4, 5, 6]\n",
    "list1.extend(list2)\n",
    "list1\n"
   ]
  },
  {
   "cell_type": "code",
   "execution_count": 8,
   "id": "0582e6a7-d21e-4164-95fd-3b84c23b3292",
   "metadata": {},
   "outputs": [
    {
     "data": {
      "text/plain": [
       "([1, 2, 3, 4, 5], 5)"
      ]
     },
     "execution_count": 8,
     "metadata": {},
     "output_type": "execute_result"
    }
   ],
   "source": [
    "my_list = [1, 2, 3, 2, 4, 5, 1, 4, 2]\n",
    "unique_values = list(set(my_list))\n",
    "unique_values_count = len(unique_values)\n",
    "unique_values, unique_values_count\n"
   ]
  },
  {
   "cell_type": "code",
   "execution_count": 9,
   "id": "f390111b-1302-4857-88b3-22512a50c50e",
   "metadata": {},
   "outputs": [
    {
     "data": {
      "text/plain": [
       "[1, 2, 2, 4, 1, 4, 2]"
      ]
     },
     "execution_count": 9,
     "metadata": {},
     "output_type": "execute_result"
    }
   ],
   "source": [
    "my_list = [1, 2, 3, 2, 4, 5, 1, 4, 2]\n",
    "k = 1\n",
    "frequency_greater_than_k = [num for num in my_list if my_list.count(num) > k]\n",
    "frequency_greater_than_k\n"
   ]
  },
  {
   "cell_type": "code",
   "execution_count": 10,
   "id": "3d866139-686f-4523-8bd6-f4b185baf0b6",
   "metadata": {},
   "outputs": [
    {
     "data": {
      "text/plain": [
       "['olleH', 'dlroW', 'nohtyP']"
      ]
     },
     "execution_count": 10,
     "metadata": {},
     "output_type": "execute_result"
    }
   ],
   "source": [
    "string_list = ['Hello', 'World', 'Python']\n",
    "reversed_strings = [string[::-1] for string in string_list]\n",
    "reversed_strings\n"
   ]
  }
 ],
 "metadata": {
  "kernelspec": {
   "display_name": "Python 3 (ipykernel)",
   "language": "python",
   "name": "python3"
  },
  "language_info": {
   "codemirror_mode": {
    "name": "ipython",
    "version": 3
   },
   "file_extension": ".py",
   "mimetype": "text/x-python",
   "name": "python",
   "nbconvert_exporter": "python",
   "pygments_lexer": "ipython3",
   "version": "3.9.13"
  }
 },
 "nbformat": 4,
 "nbformat_minor": 5
}
