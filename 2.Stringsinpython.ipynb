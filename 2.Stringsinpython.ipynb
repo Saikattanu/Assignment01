{
 "cells": [
  {
   "cell_type": "code",
   "execution_count": 1,
   "id": "d4da12ce-ba31-476d-a9fd-c6583086c9ec",
   "metadata": {},
   "outputs": [
    {
     "data": {
      "text/plain": [
       "13"
      ]
     },
     "execution_count": 1,
     "metadata": {},
     "output_type": "execute_result"
    }
   ],
   "source": [
    "string = \"Hello, World!\"\n",
    "length = len(string)\n",
    "length\n"
   ]
  },
  {
   "cell_type": "code",
   "execution_count": 2,
   "id": "3e8ecc30-8d9a-4589-beb9-9fe224b832e4",
   "metadata": {},
   "outputs": [
    {
     "data": {
      "text/plain": [
       "13"
      ]
     },
     "execution_count": 2,
     "metadata": {},
     "output_type": "execute_result"
    }
   ],
   "source": [
    "string = \"Hello, World!\"\n",
    "character_count = len(string)\n",
    "character_count\n"
   ]
  },
  {
   "cell_type": "code",
   "execution_count": 3,
   "id": "9d370973-8916-49fd-9b73-6226ec964754",
   "metadata": {},
   "outputs": [
    {
     "data": {
      "text/plain": [
       "'Hell, World!'"
      ]
     },
     "execution_count": 3,
     "metadata": {},
     "output_type": "execute_result"
    }
   ],
   "source": [
    "string = \"Hello, World!\"\n",
    "k = 4  # Index of the character to remove\n",
    "new_string = string[:k] + string[k+1:]\n",
    "new_string\n"
   ]
  },
  {
   "cell_type": "code",
   "execution_count": 4,
   "id": "fe068997-e797-47e1-b110-dd39929940a1",
   "metadata": {},
   "outputs": [
    {
     "data": {
      "text/plain": [
       "'Hlo ol!'"
      ]
     },
     "execution_count": 4,
     "metadata": {},
     "output_type": "execute_result"
    }
   ],
   "source": [
    "string = \"Hello, World!\"\n",
    "new_string = string[::2]\n",
    "new_string\n"
   ]
  },
  {
   "cell_type": "code",
   "execution_count": 5,
   "id": "7b417850-259e-4c5a-b61e-1a8bef564d82",
   "metadata": {},
   "outputs": [
    {
     "name": "stdin",
     "output_type": "stream",
     "text": [
      "Enter a string:  Hello, World!\n"
     ]
    },
    {
     "data": {
      "text/plain": [
       "('HELLO, WORLD!', 'hello, world!')"
      ]
     },
     "execution_count": 5,
     "metadata": {},
     "output_type": "execute_result"
    }
   ],
   "source": [
    "user_input = input(\"Enter a string: \")\n",
    "user_input_upper = user_input.upper()\n",
    "user_input_lower = user_input.lower()\n",
    "user_input_upper, user_input_lower\n"
   ]
  },
  {
   "cell_type": "code",
   "execution_count": 6,
   "id": "23dfbed0-5750-4de0-b94d-c5b103ea874a",
   "metadata": {},
   "outputs": [
    {
     "data": {
      "text/plain": [
       "' !,HWdellloor'"
      ]
     },
     "execution_count": 6,
     "metadata": {},
     "output_type": "execute_result"
    }
   ],
   "source": [
    "string = \"Hello, World!\"\n",
    "sorted_string = ''.join(sorted(string))\n",
    "sorted_string\n"
   ]
  },
  {
   "cell_type": "code",
   "execution_count": 7,
   "id": "95e5a7db-c385-4d12-8940-8fd8dc57ca20",
   "metadata": {},
   "outputs": [
    {
     "data": {
      "text/plain": [
       "'!dlroW ,olleH'"
      ]
     },
     "execution_count": 7,
     "metadata": {},
     "output_type": "execute_result"
    }
   ],
   "source": [
    "string = \"Hello, World!\"\n",
    "reversed_string = string[::-1]\n",
    "reversed_string\n"
   ]
  },
  {
   "cell_type": "code",
   "execution_count": 8,
   "id": "bfbce54a-bc60-4c07-b3bf-8b3c9f59101d",
   "metadata": {},
   "outputs": [
    {
     "data": {
      "text/plain": [
       "['H', 'e', 'l', 'l', 'o', ',', ' ', 'W', 'o', 'r', 'l', 'd', '!']"
      ]
     },
     "execution_count": 8,
     "metadata": {},
     "output_type": "execute_result"
    }
   ],
   "source": [
    "string = \"Hello, World!\"\n",
    "string_list = list(string)\n",
    "string_list\n"
   ]
  }
 ],
 "metadata": {
  "kernelspec": {
   "display_name": "Python 3 (ipykernel)",
   "language": "python",
   "name": "python3"
  },
  "language_info": {
   "codemirror_mode": {
    "name": "ipython",
    "version": 3
   },
   "file_extension": ".py",
   "mimetype": "text/x-python",
   "name": "python",
   "nbconvert_exporter": "python",
   "pygments_lexer": "ipython3",
   "version": "3.9.13"
  }
 },
 "nbformat": 4,
 "nbformat_minor": 5
}
