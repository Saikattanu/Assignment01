{
 "cells": [
  {
   "cell_type": "code",
   "execution_count": 1,
   "id": "f2466162-4c18-4a2a-85b0-bb316eb01578",
   "metadata": {},
   "outputs": [
    {
     "data": {
      "text/plain": [
       "[2, 0, 3, 1, 9]"
      ]
     },
     "execution_count": 1,
     "metadata": {},
     "output_type": "execute_result"
    }
   ],
   "source": [
    "def get_unique_digits(class_id):\n",
    "    # Convert the class ID to a string\n",
    "    class_id_str = str(class_id)\n",
    "\n",
    "    # Create an empty list to store unique digits\n",
    "    unique_digits = []\n",
    "\n",
    "    # Iterate over each character in the class ID\n",
    "    for digit in class_id_str:\n",
    "        # Convert the character back to an integer\n",
    "        digit_int = int(digit)\n",
    "\n",
    "        # Check if the digit is not already in the unique_digits list\n",
    "        if digit_int not in unique_digits:\n",
    "            # Add the digit to the unique_digits list\n",
    "            unique_digits.append(digit_int)\n",
    "\n",
    "    # Return the list of unique digits\n",
    "    return unique_digits\n",
    "\n",
    "# Call the function with your class ID\n",
    "class_id = 20231092\n",
    "unique_digits = get_unique_digits(class_id)\n",
    "unique_digits\n"
   ]
  },
  {
   "cell_type": "code",
   "execution_count": null,
   "id": "30441715-a2d2-4cd6-9449-27be708edc8c",
   "metadata": {},
   "outputs": [],
   "source": []
  }
 ],
 "metadata": {
  "kernelspec": {
   "display_name": "Python 3 (ipykernel)",
   "language": "python",
   "name": "python3"
  },
  "language_info": {
   "codemirror_mode": {
    "name": "ipython",
    "version": 3
   },
   "file_extension": ".py",
   "mimetype": "text/x-python",
   "name": "python",
   "nbconvert_exporter": "python",
   "pygments_lexer": "ipython3",
   "version": "3.9.13"
  }
 },
 "nbformat": 4,
 "nbformat_minor": 5
}
