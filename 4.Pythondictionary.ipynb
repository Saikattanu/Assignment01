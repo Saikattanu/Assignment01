{
 "cells": [
  {
   "cell_type": "code",
   "execution_count": 1,
   "id": "02225dc3-30f9-41e7-8ea2-41744168a417",
   "metadata": {},
   "outputs": [
    {
     "data": {
      "text/plain": [
       "{'names': ['Mango', 'Lemon', 'Apple'],\n",
       " 'color': ['yellow', 'green'],\n",
       " 'taste': ['sweet', 'sour']}"
      ]
     },
     "execution_count": 1,
     "metadata": {},
     "output_type": "execute_result"
    }
   ],
   "source": [
    "fruit = {\n",
    "    'names': ['Mango', 'Lemon'],\n",
    "    'color': ['yellow', 'green'],\n",
    "    'taste': ['sweet', 'sour']\n",
    "}\n",
    "fruit['names'].append('Apple')\n",
    "fruit\n"
   ]
  },
  {
   "cell_type": "code",
   "execution_count": 2,
   "id": "ae9a1496-f0b6-4720-891a-2c8b8c4f8d10",
   "metadata": {},
   "outputs": [
    {
     "data": {
      "text/plain": [
       "{'name': 'John', 'age': 20, 'grade': 'A'}"
      ]
     },
     "execution_count": 2,
     "metadata": {},
     "output_type": "execute_result"
    }
   ],
   "source": [
    "student = {'name': 'John', 'age': 20}\n",
    "student['grade'] = 'A'\n",
    "student\n"
   ]
  },
  {
   "cell_type": "code",
   "execution_count": 3,
   "id": "8456e686-b7e0-4a43-b7e9-a2621bb20a07",
   "metadata": {},
   "outputs": [
    {
     "data": {
      "text/plain": [
       "True"
      ]
     },
     "execution_count": 3,
     "metadata": {},
     "output_type": "execute_result"
    }
   ],
   "source": [
    "student = {'name': 'John', 'age': 20}\n",
    "key = 'age'\n",
    "key_exists = key in student\n",
    "key_exists\n"
   ]
  },
  {
   "cell_type": "code",
   "execution_count": 4,
   "id": "c0a2685f-11af-4714-a852-5e734aeb4549",
   "metadata": {},
   "outputs": [
    {
     "data": {
      "text/plain": [
       "'John'"
      ]
     },
     "execution_count": 4,
     "metadata": {},
     "output_type": "execute_result"
    }
   ],
   "source": [
    "student = {'name': 'John', 'age': 20}\n",
    "keys = list(student.keys())\n",
    "first_key = keys[0]\n",
    "first_key_element = student[first_key]\n",
    "first_key_element\n"
   ]
  },
  {
   "cell_type": "code",
   "execution_count": 5,
   "id": "6ceb54e4-148d-4002-8867-7a69030c36b0",
   "metadata": {},
   "outputs": [
    {
     "name": "stdout",
     "output_type": "stream",
     "text": [
      "name : John\n",
      "age : 20\n",
      "grade : A\n"
     ]
    }
   ],
   "source": [
    "student = {'name': 'John', 'age': 20, 'grade': 'A'}\n",
    "for key, value in student.items():\n",
    "    print(key, ':', value)\n"
   ]
  },
  {
   "cell_type": "code",
   "execution_count": 6,
   "id": "3095efe9-f599-4b92-9d3d-b69e3ea88485",
   "metadata": {},
   "outputs": [
    {
     "data": {
      "text/plain": [
       "{1: 1, 2: 4, 3: 9, 4: 16, 5: 25}"
      ]
     },
     "execution_count": 6,
     "metadata": {},
     "output_type": "execute_result"
    }
   ],
   "source": [
    "n = 5\n",
    "squared_dict = {num: num**2 for num in range(1, n+1)}\n",
    "squared_dict\n"
   ]
  },
  {
   "cell_type": "code",
   "execution_count": 7,
   "id": "2e7920bd-d68f-42dc-895c-18bf31b4ed93",
   "metadata": {},
   "outputs": [
    {
     "data": {
      "text/plain": [
       "{'name': 'John', 'age': 20, 'grade': 'A'}"
      ]
     },
     "execution_count": 7,
     "metadata": {},
     "output_type": "execute_result"
    }
   ],
   "source": [
    "student = {'name': 'John', 'age': 20, 'grade': 'A'}\n",
    "keys_dict = {key: student[key] for key in student.keys()}\n",
    "keys_dict\n"
   ]
  },
  {
   "cell_type": "code",
   "execution_count": 8,
   "id": "7cba5eb3-c2b6-4c05-b028-11b47d884ea3",
   "metadata": {},
   "outputs": [
    {
     "data": {
      "text/plain": [
       "{'age': 20, 'full_name': 'John'}"
      ]
     },
     "execution_count": 8,
     "metadata": {},
     "output_type": "execute_result"
    }
   ],
   "source": [
    "student = {'name': 'John', 'age': 20}\n",
    "student['full_name'] = student.pop('name')\n",
    "student\n"
   ]
  },
  {
   "cell_type": "code",
   "execution_count": 9,
   "id": "d25255c3-ef2d-4a31-8c55-d0a27512e01a",
   "metadata": {},
   "outputs": [
    {
     "data": {
      "text/plain": [
       "['name', 'age', 'grade']"
      ]
     },
     "execution_count": 9,
     "metadata": {},
     "output_type": "execute_result"
    }
   ],
   "source": [
    "student = {'name': 'John', 'age': 20, 'grade': 'A'}\n",
    "keys = list(student.keys())\n",
    "keys\n"
   ]
  },
  {
   "cell_type": "code",
   "execution_count": 10,
   "id": "32ff40a9-b448-4851-acb8-1a05c314e5a0",
   "metadata": {},
   "outputs": [
    {
     "data": {
      "text/plain": [
       "['John', 20, 'A']"
      ]
     },
     "execution_count": 10,
     "metadata": {},
     "output_type": "execute_result"
    }
   ],
   "source": [
    "student = {'name': 'John', 'age': 20, 'grade': 'A'}\n",
    "values = list(student.values())\n",
    "values\n"
   ]
  }
 ],
 "metadata": {
  "kernelspec": {
   "display_name": "Python 3 (ipykernel)",
   "language": "python",
   "name": "python3"
  },
  "language_info": {
   "codemirror_mode": {
    "name": "ipython",
    "version": 3
   },
   "file_extension": ".py",
   "mimetype": "text/x-python",
   "name": "python",
   "nbconvert_exporter": "python",
   "pygments_lexer": "ipython3",
   "version": "3.9.13"
  }
 },
 "nbformat": 4,
 "nbformat_minor": 5
}
